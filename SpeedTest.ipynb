{
 "cells": [
  {
   "cell_type": "code",
   "execution_count": 1,
   "metadata": {},
   "outputs": [],
   "source": [
    "import tensorflow as tf\n",
    "import numpy as np\n",
    "import os, sys\n",
    "import time"
   ]
  },
  {
   "cell_type": "code",
   "execution_count": 2,
   "metadata": {},
   "outputs": [],
   "source": [
    "def weight_variable(shape, name=None):\n",
    "    # initialize weighted variables.\n",
    "    initial = tf.truncated_normal(shape, stddev=0.001)\n",
    "    return tf.Variable(initial, name=name)\n",
    "\n",
    "def conv2d(x, W, strides=[1, 1, 1, 1], p='SAME', name=None):\n",
    "    # set convolution layers.\n",
    "    assert isinstance(x, tf.Tensor)\n",
    "    return tf.nn.conv2d(x, W, strides=strides, padding=p, name=name)\n",
    "\n",
    "def batch_norm(x):\n",
    "    assert isinstance(x, tf.Tensor)\n",
    "    # reduce dimension 1, 2, 3, which would produce batch mean and batch variance.\n",
    "    mean, var = tf.nn.moments(x, axes=[1, 2, 3])\n",
    "    return tf.nn.batch_normalization(x, mean, var, 0, 1, 1e-5)\n",
    "\n",
    "def relu(x):\n",
    "    assert isinstance(x, tf.Tensor)\n",
    "    return tf.nn.relu(x)\n",
    "\n",
    "def deconv2d(x, W, strides=[1, 1, 1, 1], p='SAME', name=None):\n",
    "    assert isinstance(x, tf.Tensor)\n",
    "    _, _, c, _ = W.get_shape().as_list()\n",
    "    b, h, w, _ = x.get_shape().as_list()\n",
    "    return tf.nn.conv2d_transpose(x, W, [b, strides[1] * h, strides[1] * w, c], strides=strides, padding=p, name=name)\n",
    "\n",
    "def max_pool_2x2(x):\n",
    "    assert isinstance(x, tf.Tensor)\n",
    "    return tf.nn.max_pool(x, ksize=[1, 2, 2, 1], strides=[1, 2, 2, 1], padding='SAME')\n",
    "\n",
    "\n",
    "class ResidualBlock():\n",
    "    def __init__(self, idx, ksize=3, train=False, data_dict=None):\n",
    "        self.W1 = weight_variable([ksize, ksize, 128, 128], name='R'+ str(idx) + '_conv1_w')\n",
    "        self.W2 = weight_variable([ksize, ksize, 128, 128], name='R'+ str(idx) + '_conv2_w')\n",
    "    def __call__(self, x, idx, strides=[1, 1, 1, 1]):\n",
    "        h = relu(batch_norm(conv2d(x, self.W1, strides, name='R' + str(idx) + '_conv1')))\n",
    "        h = batch_norm(conv2d(h, self.W2, name='R' + str(idx) + '_conv2'))\n",
    "        return x + h\n",
    "\n",
    "\n",
    "class FastStyleNet():\n",
    "    def __init__(self, train=True, data_dict=None):\n",
    "        self.c1 = weight_variable([9, 9, 3, 32], name='t_conv1_w')\n",
    "        self.c2 = weight_variable([4, 4, 32, 64], name='t_conv2_w')\n",
    "        self.c3 = weight_variable([4, 4, 64, 128], name='t_conv3_w')\n",
    "        self.r1 = ResidualBlock(1, train=train)\n",
    "        self.r2 = ResidualBlock(2, train=train)\n",
    "        self.r3 = ResidualBlock(3, train=train)\n",
    "        self.r4 = ResidualBlock(4, train=train)\n",
    "        self.r5 = ResidualBlock(5, train=train)\n",
    "        self.d1 = weight_variable([4, 4, 64, 128], name='t_dconv1_w')\n",
    "        self.d2 = weight_variable([4, 4, 32, 64], name='t_dconv2_w')\n",
    "        self.d3 = weight_variable([9, 9, 3, 32], name='t_dconv3_w')            \n",
    "    def __call__(self, h):\n",
    "        h = batch_norm(relu(conv2d(h, self.c1, name='t_conv1')))\n",
    "        h = batch_norm(relu(conv2d(h, self.c2, strides=[1, 2, 2, 1], name='t_conv2')))\n",
    "        h = batch_norm(relu(conv2d(h, self.c3, strides=[1, 2, 2, 1], name='t_conv3')))\n",
    "\n",
    "        h = self.r1(h, 1)\n",
    "        h = self.r2(h, 2)\n",
    "        h = self.r3(h, 3)\n",
    "        h = self.r4(h, 4)\n",
    "        h = self.r5(h, 5)\n",
    "\n",
    "        h = batch_norm(relu(deconv2d(h, self.d1, strides=[1, 2, 2, 1], name='t_deconv1')))\n",
    "        h = batch_norm(relu(deconv2d(h, self.d2, strides=[1, 2, 2, 1], name='t_deconv2')))\n",
    "        y = deconv2d(h, self.d3, name='t_deconv3')\n",
    "        return tf.multiply((tf.tanh(y) + 1), tf.constant(127.5, tf.float32, shape=y.get_shape()), name='output')"
   ]
  },
  {
   "cell_type": "code",
   "execution_count": 3,
   "metadata": {},
   "outputs": [],
   "source": [
    "net = FastStyleNet()\n",
    "image = tf.placeholder(tf.float32, shape=[1, 224, 224, 3], name='input')\n",
    "outputs = net(image)"
   ]
  },
  {
   "cell_type": "code",
   "execution_count": 5,
   "metadata": {
    "scrolled": false
   },
   "outputs": [
    {
     "name": "stdout",
     "output_type": "stream",
     "text": [
      "--- 0.34183812141418457 seconds ---\n"
     ]
    }
   ],
   "source": [
    "init_op = tf.global_variables_initializer()\n",
    "image_init = np.random.rand(1, 224, 224, 3)\n",
    "\n",
    "with tf.Session() as sess:\n",
    "    sess.run(init_op)\n",
    "\n",
    "    feed_dict = {image: image_init}\n",
    "    \n",
    "    start_time = time.time()\n",
    "    sess.run(outputs, feed_dict=feed_dict)\n",
    "    print(\"--- %s seconds ---\" % (time.time() - start_time))"
   ]
  },
  {
   "cell_type": "code",
   "execution_count": null,
   "metadata": {},
   "outputs": [],
   "source": []
  },
  {
   "cell_type": "code",
   "execution_count": null,
   "metadata": {},
   "outputs": [],
   "source": []
  },
  {
   "cell_type": "code",
   "execution_count": null,
   "metadata": {},
   "outputs": [],
   "source": []
  },
  {
   "cell_type": "code",
   "execution_count": 2,
   "metadata": {},
   "outputs": [],
   "source": [
    "def instance_norm(x):\n",
    "    epsilon = 1e-9\n",
    "    mean, var = tf.nn.moments(x, [1, 2], keep_dims=True)\n",
    "    return tf.div(tf.subtract(x, mean), tf.sqrt(tf.add(var, epsilon)))"
   ]
  },
  {
   "cell_type": "code",
   "execution_count": 3,
   "metadata": {},
   "outputs": [],
   "source": [
    "def conv_block(net, N):\n",
    "    net = tf.layers.conv2d(net, N, 3, padding='same')\n",
    "    net = instance_norm(net)\n",
    "    net = tf.nn.relu(net)\n",
    "\n",
    "    net = tf.layers.conv2d(net, N, 3, padding='same')\n",
    "    net = instance_norm(net)\n",
    "    net = tf.nn.relu(net)\n",
    "\n",
    "    net = tf.layers.conv2d(net, N, 1, padding='same')\n",
    "    net = instance_norm(net)\n",
    "    net = tf.nn.relu(net)\n",
    "    return net"
   ]
  },
  {
   "cell_type": "code",
   "execution_count": 4,
   "metadata": {},
   "outputs": [],
   "source": [
    "def join_block(lower, higher):\n",
    "    lower = tf.image.resize_nearest_neighbor(lower, higher.get_shape().as_list()[1:3])\n",
    "    lower = instance_norm(lower)\n",
    "    higher = instance_norm(higher)\n",
    "    higher = tf.concat([lower, higher], axis=3)\n",
    "    return higher"
   ]
  },
  {
   "cell_type": "code",
   "execution_count": 5,
   "metadata": {},
   "outputs": [],
   "source": [
    "def transfer_network(content_image_8, \n",
    "                     content_image_16,\n",
    "                     content_image_32,\n",
    "                     content_image_64,\n",
    "                     content_image_128) :\n",
    "    \n",
    "    conv_block_32_8 = conv_block(content_image_8, 32)\n",
    "    conv_block_32_16 = conv_block(content_image_16, 32)\n",
    "    conv_block_32_32 = conv_block(content_image_32, 32)\n",
    "    conv_block_32_64 = conv_block(content_image_64, 32)\n",
    "    conv_block_32_128 = conv_block(content_image_128, 32)\n",
    "\n",
    "    net = join_block(conv_block_32_8, conv_block_32_16)\n",
    "    net = conv_block(net, 64)\n",
    "    net = join_block(net, conv_block_32_32)\n",
    "    net = conv_block(net, 96)\n",
    "    net = join_block(net, conv_block_32_64)\n",
    "    net = conv_block(net, 128)\n",
    "    net = join_block(net, conv_block_32_128)\n",
    "    net = conv_block(net, 160)\n",
    "\n",
    "    net = tf.layers.conv2d(net, 3, 1, padding='same')\n",
    "    return net"
   ]
  },
  {
   "cell_type": "code",
   "execution_count": 6,
   "metadata": {
    "scrolled": false
   },
   "outputs": [],
   "source": [
    "content_image_8 = tf.placeholder(tf.float32, shape=[1, 8, 8, 3])\n",
    "content_image_16 = tf.placeholder(tf.float32, shape=[1, 16, 16, 3])\n",
    "content_image_32 = tf.placeholder(tf.float32, shape=[1, 32, 32, 3])\n",
    "content_image_64 = tf.placeholder(tf.float32, shape=[1, 64, 64, 3])\n",
    "content_image_128 = tf.placeholder(tf.float32, shape=[1, 128, 128, 3])\n",
    "\n",
    "ts_net_output = transfer_network(content_image_8, content_image_16, content_image_32, content_image_64, content_image_128)"
   ]
  },
  {
   "cell_type": "code",
   "execution_count": 7,
   "metadata": {},
   "outputs": [
    {
     "name": "stdout",
     "output_type": "stream",
     "text": [
      "--- 0.45665407180786133 seconds ---\n"
     ]
    }
   ],
   "source": [
    "init_op = tf.global_variables_initializer()\n",
    "content_image_8_init = np.random.rand(1, 8, 8, 3)\n",
    "content_image_16_init = np.random.rand(1, 16, 16, 3)\n",
    "content_image_32_init = np.random.rand(1, 32, 32, 3)\n",
    "content_image_64_init = np.random.rand(1, 64, 64, 3)\n",
    "content_image_128_init = np.random.rand(1, 128, 128, 3)\n",
    "\n",
    "with tf.Session() as sess:\n",
    "    sess.run(init_op)\n",
    "\n",
    "    feed_dict = {content_image_8: content_image_8_init, content_image_16: content_image_16_init, content_image_32: content_image_32_init, content_image_64: content_image_64_init, content_image_128: content_image_128_init}\n",
    "    \n",
    "    start_time = time.time()\n",
    "    sess.run(ts_net_output, feed_dict=feed_dict)\n",
    "    print(\"--- %s seconds ---\" % (time.time() - start_time))"
   ]
  },
  {
   "cell_type": "code",
   "execution_count": null,
   "metadata": {},
   "outputs": [],
   "source": []
  }
 ],
 "metadata": {
  "kernelspec": {
   "display_name": "Python [conda env:tensorflow]",
   "language": "python",
   "name": "conda-env-tensorflow-py"
  },
  "language_info": {
   "codemirror_mode": {
    "name": "ipython",
    "version": 3
   },
   "file_extension": ".py",
   "mimetype": "text/x-python",
   "name": "python",
   "nbconvert_exporter": "python",
   "pygments_lexer": "ipython3",
   "version": "3.5.4"
  }
 },
 "nbformat": 4,
 "nbformat_minor": 2
}
